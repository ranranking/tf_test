{
 "cells": [
  {
   "cell_type": "code",
   "execution_count": 1,
   "metadata": {},
   "outputs": [],
   "source": [
    "import pandas as pd\n",
    "import numpy as np"
   ]
  },
  {
   "cell_type": "code",
   "execution_count": 2,
   "metadata": {},
   "outputs": [],
   "source": [
    "train = pd.read_csv('../ecology_train_test/set1/train20.txt', header=None, sep=' ')\n",
    "\n",
    "train[0] = train[0].str.replace('/n/whiskey/xy/vis/peterwg/dataset/ecology/', '/home/public/dataset/ecology/Mozambique/')\n",
    "\n",
    "train.to_csv('./train20.txt', header=None, index=False, sep=' ')"
   ]
  },
  {
   "cell_type": "code",
   "execution_count": 10,
   "metadata": {},
   "outputs": [],
   "source": [
    "test = pd.read_csv('../ecology_train_test/set1/test20.txt', header=None, sep=' ')\n",
    "\n",
    "test[0] = test[0].str.replace('/n/whiskey/xy/vis/peterwg/dataset/ecology/', '/home/public/dataset/ecology/Mozambique/')\n",
    "\n",
    "test.to_csv('./test20.txt', header=None, index=False, sep=' ')"
   ]
  }
 ],
 "metadata": {
  "kernelspec": {
   "display_name": "Python 3",
   "language": "python",
   "name": "python3"
  },
  "language_info": {
   "codemirror_mode": {
    "name": "ipython",
    "version": 3
   },
   "file_extension": ".py",
   "mimetype": "text/x-python",
   "name": "python",
   "nbconvert_exporter": "python",
   "pygments_lexer": "ipython3",
   "version": "3.6.5"
  }
 },
 "nbformat": 4,
 "nbformat_minor": 2
}

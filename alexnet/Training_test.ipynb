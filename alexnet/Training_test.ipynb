{
 "cells": [
  {
   "cell_type": "code",
   "execution_count": 1,
   "metadata": {},
   "outputs": [],
   "source": [
    "import os\n",
    "import numpy as np\n",
    "import pandas as pd\n",
    "import tensorflow as tf\n",
    "from alexnet import *\n",
    "from tensorflow.python import debug as tf_debug"
   ]
  },
  {
   "cell_type": "code",
   "execution_count": 2,
   "metadata": {},
   "outputs": [],
   "source": [
    "def _image_parser (path, label):\n",
    "    \n",
    "    # Convert One Hot Label\n",
    "    one_hot_label = tf.one_hot(label, NUM_CLASSES)\n",
    "    \n",
    "    # Read Image\n",
    "    image_file = tf.read_file(path)\n",
    "    image_decoded = tf.image.decode_jpeg(image_file, channels=3)\n",
    "    image_resized = tf.image.resize_images(image_decoded, INPUT_IMAGE_SIZE)\n",
    "    \n",
    "    return image_resized, one_hot_label\n",
    "    "
   ]
  },
  {
   "cell_type": "code",
   "execution_count": 3,
   "metadata": {},
   "outputs": [],
   "source": [
    "# Misc\n",
    "LOG_DIR = './log/'\n",
    "IMGNET_PRE_MODEL = './imagenet_pretrained_20/model.ckpt'\n",
    "\n",
    "# Training Parameters\n",
    "MEAN_IMAGE = np.array([104., 117., 124.])\n",
    "SHUFFLE_BUFFER= 250\n",
    "LEARNING_RATE = 0.005\n",
    "MOMENTUM = 0.9\n",
    "NUM_EPOCHS = 1\n",
    "NUM_STEPS = 5000\n",
    "BATCH_SIZE = 128\n",
    "DISPLAY_STEP = 1\n",
    "INPUT_IMAGE_SIZE = [227, 227]\n",
    "NUM_CLASSES = 20\n",
    "KEEP_RATE = 0.75"
   ]
  },
  {
   "cell_type": "code",
   "execution_count": 4,
   "metadata": {},
   "outputs": [],
   "source": [
    "# Load Data\n",
    "train = pd.read_csv('../train20.txt', delimiter=' ', header=None).sample(frac=1, random_state=100) "
   ]
  },
  {
   "cell_type": "code",
   "execution_count": 9,
   "metadata": {},
   "outputs": [],
   "source": [
    "model_graph = tf.Graph()\n",
    "with model_graph.as_default():  \n",
    "\n",
    "    keep_prob = tf.placeholder(tf.float32)\n",
    "\n",
    "    # Dataset\n",
    "    trn_ds = tf.data.Dataset.from_tensor_slices(\n",
    "        (np.array(train[0]), np.array(train[1]))).map(_image_parser).shuffle(SHUFFLE_BUFFER).repeat().batch(BATCH_SIZE)\n",
    "\n",
    "    # Dataset iterators\n",
    "    iterator = trn_ds.make_one_shot_iterator()\n",
    "    x, y = iterator.get_next()\n",
    "\n",
    "    # Image Summary\n",
    "    tf.summary.image('input', x, 10)\n",
    "    \n",
    "    # Build Model\n",
    "    alexnet = My_AlexNet(x=x, keep_rate=keep_prob, \n",
    "                         num_classes=NUM_CLASSES, mean_image = MEAN_IMAGE,\n",
    "                         skip_layers=['fc8'], weights_path='../bvlc_alexnet.npy')\n",
    "    alexnet.build()\n",
    "\n",
    "    # Logits and Predictions\n",
    "    logits = alexnet.logits\n",
    "    prediction = {'classes': tf.argmax(logits, axis=1), \n",
    "                  'prob': tf.nn.softmax(logits, name='prob')}\n",
    "\n",
    "    # Loss and optimizer\n",
    "    with tf.variable_scope('cross_entropy_loss'):\n",
    "        loss_op = tf.reduce_mean(tf.nn.softmax_cross_entropy_with_logits_v2(logits=logits, labels=y)) \n",
    "        tf.summary.scalar('cross_entropy_loss', loss_op)\n",
    "\n",
    "    with tf.variable_scope('train'):\n",
    "        optimizer = tf.train.MomentumOptimizer(learning_rate=LEARNING_RATE, momentum=MOMENTUM)\n",
    "        train_op = optimizer.minimize(loss_op, global_step=tf.train.get_global_step())\n",
    "\n",
    "    # Evaluation\n",
    "    with tf.variable_scope('accuracy'):\n",
    "        correct_pred = tf.equal(prediction['classes'], tf.argmax(y, 1))\n",
    "        accuracy_op = tf.reduce_mean(tf.cast(correct_pred, tf.float32))\n",
    "        tf.summary.scalar('accuracy', accuracy_op)\n",
    "\n",
    "    # Global Initializer\n",
    "    global_init = tf.global_variables_initializer()\n",
    "\n",
    "    # Merge Summary\n",
    "    summary = tf.summary.merge_all()\n",
    "\n",
    "    # Global saver\n",
    "    saver = tf.train.Saver()"
   ]
  },
  {
   "cell_type": "code",
   "execution_count": null,
   "metadata": {},
   "outputs": [
    {
     "name": "stdout",
     "output_type": "stream",
     "text": [
      "Load Pretrained model\n",
      "INFO:tensorflow:Restoring parameters from ./imagenet_pretrained_20/model.ckpt\n",
      "Model restored.\n",
      "Start training.\n",
      "Step 0, Minibatch Loss= 3.5255, Training Accuracy= 0.094\n",
      "Step 1, Minibatch Loss= 3.0487, Training Accuracy= 0.078\n",
      "Step 2, Minibatch Loss= 2.9053, Training Accuracy= 0.141\n",
      "Step 3, Minibatch Loss= 2.9598, Training Accuracy= 0.141\n",
      "Step 4, Minibatch Loss= 2.8781, Training Accuracy= 0.117\n",
      "Step 5, Minibatch Loss= 2.7582, Training Accuracy= 0.172\n",
      "Step 6, Minibatch Loss= 2.7883, Training Accuracy= 0.102\n",
      "Step 7, Minibatch Loss= 2.8787, Training Accuracy= 0.109\n",
      "Step 8, Minibatch Loss= 2.8134, Training Accuracy= 0.148\n",
      "Step 9, Minibatch Loss= 2.7855, Training Accuracy= 0.195\n",
      "Step 10, Minibatch Loss= 2.7800, Training Accuracy= 0.133\n",
      "Step 11, Minibatch Loss= 2.7348, Training Accuracy= 0.172\n",
      "Step 12, Minibatch Loss= 2.7360, Training Accuracy= 0.125\n",
      "Step 13, Minibatch Loss= 3.0137, Training Accuracy= 0.148\n",
      "Step 14, Minibatch Loss= 2.9147, Training Accuracy= 0.102\n",
      "Step 15, Minibatch Loss= 3.0163, Training Accuracy= 0.094\n",
      "Step 16, Minibatch Loss= 2.9091, Training Accuracy= 0.117\n",
      "Step 17, Minibatch Loss= 2.9204, Training Accuracy= 0.086\n",
      "Step 18, Minibatch Loss= 2.8485, Training Accuracy= 0.133\n",
      "Step 19, Minibatch Loss= 2.8373, Training Accuracy= 0.062\n",
      "Step 20, Minibatch Loss= 2.7684, Training Accuracy= 0.133\n",
      "Step 21, Minibatch Loss= 2.7513, Training Accuracy= 0.141\n",
      "Step 22, Minibatch Loss= 2.8802, Training Accuracy= 0.133\n"
     ]
    }
   ],
   "source": [
    "with tf.Session(graph=model_graph) as sess:\n",
    "    \n",
    "    # Debugger\n",
    "    # sess = tf_debug.TensorBoardDebugWrapperSession(sess, \"marr:7000\")\n",
    "    \n",
    "    # Writer\n",
    "    writer = tf.summary.FileWriter('./log/model_1', graph=model_graph)\n",
    "    \n",
    "    # Run Global Initializer\n",
    "#     print('Start initializing.')\n",
    "#     sess.run(global_init)\n",
    "#     print('Done')\n",
    "    \n",
    "    # Restore pretrained model\n",
    "    print('Load Pretrained model')\n",
    "    saver.restore(sess, './imagenet_pretrained_20/model.ckpt')\n",
    "    print('Model restored.')\n",
    "    \n",
    "    print('Start training.')\n",
    "    \n",
    "    for step  in range(NUM_STEPS):\n",
    "        \n",
    "        sess.run(train_op, feed_dict={keep_prob: KEEP_RATE})\n",
    "\n",
    "        if step % DISPLAY_STEP == 0:\n",
    "\n",
    "            loss_val, acc, s, label, pred, c_pred = sess.run([loss_op, accuracy_op, summary, y, prediction['classes'], correct_pred],\n",
    "                                        feed_dict={keep_prob: 1.0})\n",
    "\n",
    "            writer.add_summary(s, step)\n",
    "            \n",
    "            print(\"Step \" + str(step) + \", Minibatch Loss= \" + \\\n",
    "                  \"{:.4f}\".format(loss_val) + \", Training Accuracy= \" + \\\n",
    "                  \"{:.3f}\".format(acc))\n",
    "    \n",
    "    print('Done.')"
   ]
  },
  {
   "cell_type": "code",
   "execution_count": 10,
   "metadata": {},
   "outputs": [
    {
     "name": "stdout",
     "output_type": "stream",
     "text": [
      "weights loaded.\n",
      "Model saved in: ./imagenet_pretrained_20/model.ckpt\n"
     ]
    }
   ],
   "source": [
    "with tf.Session(graph=model_graph) as sess:\n",
    "    \n",
    "    sess.run(global_init)\n",
    "    \n",
    "    alexnet.load_weights(session=sess, encoding='latin1')\n",
    "    print('weights loaded.')\n",
    "    \n",
    "    # Save the model\n",
    "    save_path = saver.save(sess, IMGNET_PRE_MODEL)\n",
    "    print('Model saved in: %s' % save_path)"
   ]
  },
  {
   "cell_type": "code",
   "execution_count": null,
   "metadata": {},
   "outputs": [],
   "source": []
  },
  {
   "cell_type": "code",
   "execution_count": null,
   "metadata": {},
   "outputs": [],
   "source": []
  },
  {
   "cell_type": "code",
   "execution_count": null,
   "metadata": {},
   "outputs": [],
   "source": []
  },
  {
   "cell_type": "code",
   "execution_count": null,
   "metadata": {},
   "outputs": [],
   "source": []
  }
 ],
 "metadata": {
  "kernelspec": {
   "display_name": "Python 3",
   "language": "python",
   "name": "python3"
  },
  "language_info": {
   "codemirror_mode": {
    "name": "ipython",
    "version": 3
   },
   "file_extension": ".py",
   "mimetype": "text/x-python",
   "name": "python",
   "nbconvert_exporter": "python",
   "pygments_lexer": "ipython3",
   "version": "3.6.5"
  }
 },
 "nbformat": 4,
 "nbformat_minor": 2
}

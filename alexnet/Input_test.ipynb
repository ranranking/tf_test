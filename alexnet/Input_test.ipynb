{
 "cells": [
  {
   "cell_type": "code",
   "execution_count": 11,
   "metadata": {},
   "outputs": [],
   "source": [
    "# Creat testing csv file\n",
    "image_dir = '/Users/ranranking/Work/tensorflow_excercise/test_image'\n",
    "image_list = os.listdir(image_dir)\n",
    "\n",
    "for img in image_list:\n",
    "    os.rename(os.path.join(image_dir, img), os.path.join(image_dir, img.replace(' ', '_')))\n",
    "\n",
    "image_list = np.array([os.path.join(image_dir, img) for img in image_list])\n",
    "\n",
    "label = np.array([1,1,1,1,0,0,0,0]).astype(str)\n",
    "\n",
    "image_df = pd.DataFrame([image_list, label]).transpose()\n",
    "\n",
    "image_df.to_csv('./image.txt', header=None, index=False, sep=' ')"
   ]
  },
  {
   "cell_type": "code",
   "execution_count": 1,
   "metadata": {},
   "outputs": [],
   "source": [
    "import os\n",
    "import numpy as np\n",
    "import pandas as pd\n",
    "import tensorflow as tf"
   ]
  },
  {
   "cell_type": "code",
   "execution_count": 7,
   "metadata": {},
   "outputs": [],
   "source": [
    "NUM_CLASSES = 2\n",
    "\n",
    "def _parser_function(img_path, label):\n",
    "    \n",
    "    # Convert One Hot Label\n",
    "    one_hot = tf.one_hot(label, NUM_CLASSES)\n",
    "    \n",
    "    # Read Image\n",
    "    img_file = tf.read_file(img_path)\n",
    "    img_decoded = tf.image.decode_jpeg(img_file, channels=3)\n",
    "    img_resized = tf.image.resize_images(img_decoded, [256, 256])\n",
    "    \n",
    "    return img_resized, one_hot"
   ]
  },
  {
   "cell_type": "code",
   "execution_count": 2,
   "metadata": {},
   "outputs": [
    {
     "name": "stderr",
     "output_type": "stream",
     "text": [
      "/Users/ranranking/miniconda3/lib/python3.6/site-packages/ipykernel_launcher.py:2: VisibleDeprecationWarning: Reading unicode strings without specifying the encoding argument is deprecated. Set the encoding, use None for the system default.\n",
      "  \n"
     ]
    }
   ],
   "source": [
    "# Use numpy\n",
    "data = np.genfromtxt('./image.txt', delimiter=' ', dtype=None)\n",
    "\n",
    "image_dir = np.array([ele[0] for ele in data])\n",
    "\n",
    "labels = np.array([ele[1] for ele in data])\n",
    "\n",
    "dataset = tf.data.Dataset.from_tensor_slices((image_dir, labels))"
   ]
  },
  {
   "cell_type": "code",
   "execution_count": 21,
   "metadata": {},
   "outputs": [],
   "source": [
    "# Use pandas\n",
    "data_df = pd.read_csv('./image.txt', sep=' ', header=None)\n",
    "dataset = tf.data.Dataset.from_tensor_slices((np.array(data_df[0]), np.array(data_df[1])))"
   ]
  },
  {
   "cell_type": "code",
   "execution_count": 22,
   "metadata": {},
   "outputs": [],
   "source": [
    "dataset = dataset.map(_parser_function).batch(8)\n",
    "\n",
    "it = dataset.make_one_shot_iterator()\n",
    "\n",
    "next_element = it.get_next()\n",
    "\n",
    "summary = tf.summary.image('input', next_element[0], 8)\n",
    "\n",
    "with tf.Session() as sess:\n",
    "#     s, labels = sess.run([summary, next_element[1]])\n",
    "#     print(labels)\n",
    "\n",
    "    s = sess.run(summary)\n",
    "    writer = tf.summary.FileWriter('./log/model')\n",
    "    writer.add_summary(s)\n",
    "    writer.close()"
   ]
  },
  {
   "cell_type": "code",
   "execution_count": null,
   "metadata": {},
   "outputs": [],
   "source": []
  }
 ],
 "metadata": {
  "kernelspec": {
   "display_name": "Python 3",
   "language": "python",
   "name": "python3"
  },
  "language_info": {
   "codemirror_mode": {
    "name": "ipython",
    "version": 3
   },
   "file_extension": ".py",
   "mimetype": "text/x-python",
   "name": "python",
   "nbconvert_exporter": "python",
   "pygments_lexer": "ipython3",
   "version": "3.6.3"
  }
 },
 "nbformat": 4,
 "nbformat_minor": 2
}

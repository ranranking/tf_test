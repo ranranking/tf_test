{
 "cells": [
  {
   "cell_type": "code",
   "execution_count": 1,
   "metadata": {},
   "outputs": [],
   "source": [
    "import os\n",
    "import numpy as np\n",
    "import pandas as pd\n",
    "import time\n",
    "import tensorflow as tf\n",
    "from alexnet import *\n",
    "from classes import class_names"
   ]
  },
  {
   "cell_type": "code",
   "execution_count": 2,
   "metadata": {},
   "outputs": [],
   "source": [
    "# Misc\n",
    "LOG_DIR = './log/'\n",
    "\n",
    "# Training Parameters\n",
    "LEARNING_RATE = 0.001\n",
    "NUM_EPOCHS = 1\n",
    "NUM_STEPS = 500\n",
    "BATCH_SIZE = 128\n",
    "DISPLAY_STEP = 10\n",
    "\n",
    "# Network Parameters\n",
    "NUM_CLASSES = 1000\n",
    "KEEP_RATE = 0.75"
   ]
  },
  {
   "cell_type": "code",
   "execution_count": 3,
   "metadata": {},
   "outputs": [],
   "source": [
    "def read_image (path):\n",
    "    # Read Image\n",
    "    img_file = tf.read_file(path)\n",
    "    img_decoded = tf.image.decode_jpeg(img_file, channels=3)\n",
    "    img_resized = tf.image.resize_images(img_decoded, [227, 227])\n",
    "    \n",
    "    # Convert to BGR <-- Because the weights were trained from opencv images\n",
    "    img = tf.reverse(img_resized, axis=[-1])\n",
    "    \n",
    "    # Subtract from mean\n",
    "    imagenet_mean = np.array([104., 117., 124.])\n",
    "    img -= imagenet_mean\n",
    "    \n",
    "    return img\n",
    "    "
   ]
  },
  {
   "cell_type": "code",
   "execution_count": 4,
   "metadata": {},
   "outputs": [],
   "source": [
    "model_graph = tf.Graph()\n",
    "with model_graph.as_default():\n",
    "    \n",
    "    data = tf.data.Dataset.from_tensor_slices(np.array(['../test_image/llama.jpeg']))\n",
    "    data = data.map(read_image).batch(1)\n",
    "    iterator = data.make_one_shot_iterator()\n",
    "    next_el = iterator.get_next()\n",
    "    \n",
    "    #images = tf.placeholder(tf.float32, [None, 227, 227, 3])\n",
    "    #labels = tf.placeholder(tf.float32, [None, NUM_CLASSES])\n",
    "    keep_prob = tf.placeholder(tf.float32)\n",
    "    \n",
    "    # Build Model\n",
    "    alexnet = My_AlexNet(x=next_el, keep_rate=keep_prob, \n",
    "                         num_classes=NUM_CLASSES, skip_layers=[],\n",
    "                         weights_path='../bvlc_alexnet.npy')\n",
    "    alexnet.build()\n",
    "    \n",
    "    # Logits and Predictions\n",
    "    logits = alexnet.logits\n",
    "    prediction = {'classes': tf.argmax(logits, axis=1), \n",
    "                  'prob': tf.nn.softmax(logits, name='prob')}\n",
    "    \n",
    "    init = tf.global_variables_initializer()\n",
    "    \n",
    "    saver = tf.train.Saver()"
   ]
  },
  {
   "cell_type": "markdown",
   "metadata": {},
   "source": [
    "## Direct validation with weights loading"
   ]
  },
  {
   "cell_type": "code",
   "execution_count": 5,
   "metadata": {},
   "outputs": [
    {
     "name": "stdout",
     "output_type": "stream",
     "text": [
      "Weights Loaded.\n",
      "llama\n",
      "0.9991485\n",
      "time used: 17s\n"
     ]
    }
   ],
   "source": [
    "start_time = time.time()\n",
    "with tf.Session(graph=model_graph) as sess:\n",
    "    \n",
    "    sess.run(init)\n",
    "    \n",
    "    alexnet.load_weights(session=sess, encoding='latin1')\n",
    "    print('Weights Loaded.')\n",
    "    \n",
    "    pred = sess.run(prediction, feed_dict={keep_prob: 1.0})\n",
    "    \n",
    "    print(class_names[pred['classes'][0]])\n",
    "    print(pred['prob'].max())\n",
    "    \n",
    "    print(\"time used: %ds\" % (time.time() - start_time))"
   ]
  },
  {
   "cell_type": "markdown",
   "metadata": {},
   "source": [
    "## Save and load tensorflow model"
   ]
  },
  {
   "cell_type": "code",
   "execution_count": 5,
   "metadata": {},
   "outputs": [
    {
     "name": "stdout",
     "output_type": "stream",
     "text": [
      "Model saved in: ./imagenet_pretrained/model.ckpt\n"
     ]
    }
   ],
   "source": [
    "# Load weights and save the model\n",
    "with tf.Session(graph=model_graph) as sess:\n",
    "    # Initialization\n",
    "    sess.run(init)\n",
    "    \n",
    "    # Load weights\n",
    "    alexnet.load_weights(session=sess, encoding='latin1')\n",
    "    \n",
    "    # Save the model\n",
    "    save_path = saver.save(sess, './imagenet_pretrained/model.ckpt')\n",
    "    print('Model saved in: %s' % save_path)"
   ]
  },
  {
   "cell_type": "code",
   "execution_count": 5,
   "metadata": {},
   "outputs": [
    {
     "name": "stdout",
     "output_type": "stream",
     "text": [
      "INFO:tensorflow:Restoring parameters from ./imagenet_pretrained/model.ckpt\n",
      "Model restored.\n",
      "llama\n",
      "0.9991485\n",
      "time used: 7s\n"
     ]
    }
   ],
   "source": [
    "start_time = time.time()\n",
    "with tf.Session(graph=model_graph) as sess:\n",
    "    \n",
    "    # Restore pretrained model\n",
    "    saver.restore(sess, './imagenet_pretrained/model.ckpt')\n",
    "    print('Model restored.')\n",
    "    \n",
    "    pred = sess.run(prediction, feed_dict={keep_prob: 1.0})\n",
    "    \n",
    "    print(class_names[pred['classes'][0]])\n",
    "    print(pred['prob'].max())\n",
    "    \n",
    "    print(\"time used: %ds\" % (time.time() - start_time))"
   ]
  }
 ],
 "metadata": {
  "kernelspec": {
   "display_name": "Python 3",
   "language": "python",
   "name": "python3"
  },
  "language_info": {
   "codemirror_mode": {
    "name": "ipython",
    "version": 3
   },
   "file_extension": ".py",
   "mimetype": "text/x-python",
   "name": "python",
   "nbconvert_exporter": "python",
   "pygments_lexer": "ipython3",
   "version": "3.6.5"
  }
 },
 "nbformat": 4,
 "nbformat_minor": 2
}

{
 "cells": [
  {
   "cell_type": "code",
   "execution_count": 1,
   "metadata": {},
   "outputs": [],
   "source": [
    "import os\n",
    "import numpy as np\n",
    "import tensorflow as tf\n",
    "from model import *\n",
    "from tensorflow.python import debug as tf_debug"
   ]
  },
  {
   "cell_type": "code",
   "execution_count": 2,
   "metadata": {},
   "outputs": [
    {
     "name": "stdout",
     "output_type": "stream",
     "text": [
      "WARNING:tensorflow:From <ipython-input-2-8bf8ae5a5303>:2: read_data_sets (from tensorflow.contrib.learn.python.learn.datasets.mnist) is deprecated and will be removed in a future version.\n",
      "Instructions for updating:\n",
      "Please use alternatives such as official/mnist/dataset.py from tensorflow/models.\n",
      "WARNING:tensorflow:From /Users/ranranking/miniconda3/lib/python3.6/site-packages/tensorflow/contrib/learn/python/learn/datasets/mnist.py:260: maybe_download (from tensorflow.contrib.learn.python.learn.datasets.base) is deprecated and will be removed in a future version.\n",
      "Instructions for updating:\n",
      "Please write your own downloading logic.\n",
      "WARNING:tensorflow:From /Users/ranranking/miniconda3/lib/python3.6/site-packages/tensorflow/contrib/learn/python/learn/datasets/mnist.py:262: extract_images (from tensorflow.contrib.learn.python.learn.datasets.mnist) is deprecated and will be removed in a future version.\n",
      "Instructions for updating:\n",
      "Please use tf.data to implement this functionality.\n",
      "Extracting MNIST_data/train-images-idx3-ubyte.gz\n",
      "WARNING:tensorflow:From /Users/ranranking/miniconda3/lib/python3.6/site-packages/tensorflow/contrib/learn/python/learn/datasets/mnist.py:267: extract_labels (from tensorflow.contrib.learn.python.learn.datasets.mnist) is deprecated and will be removed in a future version.\n",
      "Instructions for updating:\n",
      "Please use tf.data to implement this functionality.\n",
      "Extracting MNIST_data/train-labels-idx1-ubyte.gz\n",
      "WARNING:tensorflow:From /Users/ranranking/miniconda3/lib/python3.6/site-packages/tensorflow/contrib/learn/python/learn/datasets/mnist.py:110: dense_to_one_hot (from tensorflow.contrib.learn.python.learn.datasets.mnist) is deprecated and will be removed in a future version.\n",
      "Instructions for updating:\n",
      "Please use tf.one_hot on tensors.\n",
      "Extracting MNIST_data/t10k-images-idx3-ubyte.gz\n",
      "Extracting MNIST_data/t10k-labels-idx1-ubyte.gz\n",
      "WARNING:tensorflow:From /Users/ranranking/miniconda3/lib/python3.6/site-packages/tensorflow/contrib/learn/python/learn/datasets/mnist.py:290: DataSet.__init__ (from tensorflow.contrib.learn.python.learn.datasets.mnist) is deprecated and will be removed in a future version.\n",
      "Instructions for updating:\n",
      "Please use alternatives such as official/mnist/dataset.py from tensorflow/models.\n"
     ]
    }
   ],
   "source": [
    "from tensorflow.examples.tutorials.mnist import input_data\n",
    "mnist = input_data.read_data_sets(\"MNIST_data/\", one_hot=True)"
   ]
  },
  {
   "cell_type": "code",
   "execution_count": 3,
   "metadata": {},
   "outputs": [],
   "source": [
    "# Misc\n",
    "LOG_DIR = './log/'\n",
    "LABELS ='./labels_1024.tsv'\n",
    "SPRITES = './sprite_1024.png'\n",
    "\n",
    "# Training Parameters\n",
    "learning_rate = 0.001\n",
    "num_steps = 500\n",
    "batch_size = 128\n",
    "display_step = 10\n",
    "\n",
    "# Network Parameters\n",
    "num_classes = 10\n",
    "keep_rate = 0.75"
   ]
  },
  {
   "cell_type": "code",
   "execution_count": 4,
   "metadata": {},
   "outputs": [],
   "source": [
    "model_graph = tf.Graph()\n",
    "with model_graph.as_default():\n",
    "    \n",
    "    images = tf.placeholder(tf.float32, [None, 28, 28, 1])\n",
    "    labels = tf.placeholder(tf.float32, [None, num_classes])\n",
    "    keep_prob = tf.placeholder(tf.float32)\n",
    "    \n",
    "    tf.summary.image('input', images, 3)\n",
    "    \n",
    "    # Logits and Predictions\n",
    "    logits, embedding_input = build_model(images, labels, keep_prob) \n",
    "    prediction = {'classes': tf.argmax(logits, axis=1), \n",
    "                  'prob': tf.nn.softmax(logits, name='prob')}\n",
    "    \n",
    "    # Loss and optimizer\n",
    "    with tf.variable_scope('cross_entropy_loss'):\n",
    "        loss = tf.reduce_mean(tf.nn.softmax_cross_entropy_with_logits_v2(logits=logits, labels=labels))\n",
    "        tf.summary.scalar('cross_entropy_loss', loss)\n",
    "    \n",
    "    with tf.variable_scope('train'):\n",
    "        optimizer = tf.train.AdamOptimizer(learning_rate=learning_rate)\n",
    "        train_op = optimizer.minimize(loss, global_step=tf.train.get_global_step())\n",
    "    \n",
    "    # Evaluation\n",
    "    with tf.variable_scope('accuracy'):\n",
    "        correct_pred = tf.equal(prediction['classes'], tf.argmax(labels, 1))\n",
    "        accuracy = tf.reduce_mean(tf.cast(correct_pred, tf.float32))\n",
    "        tf.summary.scalar('accuracy', accuracy)\n",
    "    \n",
    "    # Initializer\n",
    "    initializer = tf.global_variables_initializer()\n",
    "    \n",
    "    # Summary\n",
    "    summary = tf.summary.merge_all()\n",
    "    \n",
    "    # Embedding\n",
    "    embedding = tf.Variable(tf.zeros([1024, 1024]), name='test_embedding')\n",
    "    assignment = embedding.assign(embedding_input)\n",
    "    saver = tf.train.Saver()\n",
    "    \n",
    "    config = tf.contrib.tensorboard.plugins.projector.ProjectorConfig()\n",
    "    embedding_config = config.embeddings.add()\n",
    "    embedding_config.tensor_name = embedding.name\n",
    "    \n",
    "#     embedding_config.sprite.image_path = SPRITES\n",
    "    embedding_config.metadata_path = 'labels.tsv'\n",
    "#     # Specify the width and height of a single thumbnail.\n",
    "#     embedding_config.sprite.single_image_dim.extend([28, 28])\n",
    "    "
   ]
  },
  {
   "cell_type": "code",
   "execution_count": 5,
   "metadata": {},
   "outputs": [],
   "source": []
  },
  {
   "cell_type": "code",
   "execution_count": 6,
   "metadata": {},
   "outputs": [
    {
     "name": "stdout",
     "output_type": "stream",
     "text": [
      "Step 0, Minibatch Loss= 2.4499, Training Accuracy= 0.141\n",
      "Step 10, Minibatch Loss= 1.6004, Training Accuracy= 0.625\n",
      "Step 20, Minibatch Loss= 0.6396, Training Accuracy= 0.812\n",
      "Step 30, Minibatch Loss= 0.5619, Training Accuracy= 0.828\n",
      "Step 40, Minibatch Loss= 0.3923, Training Accuracy= 0.922\n",
      "Step 50, Minibatch Loss= 0.2996, Training Accuracy= 0.922\n",
      "Step 60, Minibatch Loss= 0.0923, Training Accuracy= 0.977\n",
      "Step 70, Minibatch Loss= 0.2619, Training Accuracy= 0.906\n",
      "Step 80, Minibatch Loss= 0.1456, Training Accuracy= 0.953\n",
      "Step 90, Minibatch Loss= 0.2114, Training Accuracy= 0.930\n",
      "Step 100, Minibatch Loss= 0.1130, Training Accuracy= 0.984\n",
      "Step 110, Minibatch Loss= 0.2531, Training Accuracy= 0.906\n",
      "Step 120, Minibatch Loss= 0.0730, Training Accuracy= 0.977\n",
      "Step 130, Minibatch Loss= 0.0829, Training Accuracy= 0.984\n",
      "Step 140, Minibatch Loss= 0.0490, Training Accuracy= 0.992\n",
      "Step 150, Minibatch Loss= 0.1006, Training Accuracy= 0.969\n",
      "Step 160, Minibatch Loss= 0.0847, Training Accuracy= 0.977\n",
      "Step 170, Minibatch Loss= 0.0693, Training Accuracy= 0.992\n",
      "Step 180, Minibatch Loss= 0.0500, Training Accuracy= 0.992\n",
      "Step 190, Minibatch Loss= 0.1348, Training Accuracy= 0.969\n",
      "Step 200, Minibatch Loss= 0.0574, Training Accuracy= 0.992\n",
      "Step 210, Minibatch Loss= 0.0778, Training Accuracy= 0.992\n",
      "Step 220, Minibatch Loss= 0.0397, Training Accuracy= 0.992\n",
      "Step 230, Minibatch Loss= 0.0424, Training Accuracy= 0.992\n",
      "Step 240, Minibatch Loss= 0.0378, Training Accuracy= 0.992\n",
      "Step 250, Minibatch Loss= 0.0316, Training Accuracy= 1.000\n",
      "Step 260, Minibatch Loss= 0.0463, Training Accuracy= 0.977\n",
      "Step 270, Minibatch Loss= 0.0244, Training Accuracy= 0.992\n",
      "Step 280, Minibatch Loss= 0.1447, Training Accuracy= 0.961\n",
      "Step 290, Minibatch Loss= 0.0592, Training Accuracy= 0.977\n",
      "Step 300, Minibatch Loss= 0.0356, Training Accuracy= 0.992\n",
      "Step 310, Minibatch Loss= 0.1047, Training Accuracy= 0.953\n",
      "Step 320, Minibatch Loss= 0.0712, Training Accuracy= 0.984\n",
      "Step 330, Minibatch Loss= 0.0408, Training Accuracy= 0.984\n",
      "Step 340, Minibatch Loss= 0.0683, Training Accuracy= 0.977\n",
      "Step 350, Minibatch Loss= 0.0976, Training Accuracy= 0.969\n",
      "Step 360, Minibatch Loss= 0.0572, Training Accuracy= 0.984\n",
      "Step 370, Minibatch Loss= 0.0504, Training Accuracy= 0.992\n",
      "Step 380, Minibatch Loss= 0.0548, Training Accuracy= 0.969\n",
      "Step 390, Minibatch Loss= 0.1497, Training Accuracy= 0.961\n",
      "Step 400, Minibatch Loss= 0.0171, Training Accuracy= 1.000\n",
      "Step 410, Minibatch Loss= 0.0604, Training Accuracy= 0.984\n",
      "Step 420, Minibatch Loss= 0.0799, Training Accuracy= 0.984\n",
      "Step 430, Minibatch Loss= 0.0195, Training Accuracy= 1.000\n",
      "Step 440, Minibatch Loss= 0.0439, Training Accuracy= 0.992\n",
      "Step 450, Minibatch Loss= 0.0526, Training Accuracy= 0.984\n",
      "Step 460, Minibatch Loss= 0.0489, Training Accuracy= 0.992\n",
      "Step 470, Minibatch Loss= 0.0482, Training Accuracy= 0.984\n",
      "Step 480, Minibatch Loss= 0.0097, Training Accuracy= 1.000\n",
      "Step 490, Minibatch Loss= 0.0313, Training Accuracy= 0.984\n"
     ]
    }
   ],
   "source": [
    "with tf.Session(graph=model_graph) as sess:\n",
    "    \n",
    "    #sess = tf_debug.TensorBoardDebugWrapperSession(sess, \"MZQ-MBP.local:7000\")\n",
    "    \n",
    "    writer = tf.summary.FileWriter('./log/model_1', graph=model_graph)\n",
    "    \n",
    "    tf.contrib.tensorboard.plugins.projector.visualize_embeddings(writer, config)\n",
    "    \n",
    "    # Run Initializer\n",
    "    sess.run(initializer)\n",
    "    \n",
    "    # Training\n",
    "    for step in range(num_steps):\n",
    "        \n",
    "        batch_x, batch_y = mnist.train.next_batch(batch_size)\n",
    "        batch_x = batch_x.reshape([-1, 28, 28, 1])\n",
    "        \n",
    "        sess.run(train_op, feed_dict={images: batch_x, labels: batch_y, keep_prob: keep_rate})\n",
    "        \n",
    "        if step % display_step == 0:\n",
    "            \n",
    "            loss_val, acc, s = sess.run([loss, accuracy, summary],\n",
    "                                        feed_dict={images: batch_x, labels: batch_y, keep_prob: 1.0})\n",
    "            \n",
    "            writer.add_summary(s, step)\n",
    "            \n",
    "            print(\"Step \" + str(step) + \", Minibatch Loss= \" + \\\n",
    "                  \"{:.4f}\".format(loss_val) + \", Training Accuracy= \" + \\\n",
    "                  \"{:.3f}\".format(acc))\n",
    "            \n",
    "        if step % 100 == 0:\n",
    "            \n",
    "            sess.run(assignment, feed_dict={images: mnist.test.images[:1024].reshape([-1, 28, 28, 1]),\n",
    "                                            labels: mnist.test.labels[:1024]})\n",
    "            saver.save(sess, os.path.join(LOG_DIR, \"model.ckpt\"), step)\n",
    "            \n",
    "    writer.close()"
   ]
  },
  {
   "cell_type": "code",
   "execution_count": 11,
   "metadata": {},
   "outputs": [
    {
     "data": {
      "text/plain": [
       "55000"
      ]
     },
     "execution_count": 11,
     "metadata": {},
     "output_type": "execute_result"
    }
   ],
   "source": [
    "mnist.train.num_examples"
   ]
  },
  {
   "cell_type": "code",
   "execution_count": 10,
   "metadata": {},
   "outputs": [],
   "source": [
    "writer = tf.summary.FileWriter('./model_1/', graph=model_graph)"
   ]
  }
 ],
 "metadata": {
  "kernelspec": {
   "display_name": "Python 3",
   "language": "python",
   "name": "python3"
  },
  "language_info": {
   "codemirror_mode": {
    "name": "ipython",
    "version": 3
   },
   "file_extension": ".py",
   "mimetype": "text/x-python",
   "name": "python",
   "nbconvert_exporter": "python",
   "pygments_lexer": "ipython3",
   "version": "3.6.3"
  }
 },
 "nbformat": 4,
 "nbformat_minor": 2
}

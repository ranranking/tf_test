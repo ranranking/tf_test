{
 "cells": [
  {
   "cell_type": "code",
   "execution_count": 1,
   "metadata": {},
   "outputs": [],
   "source": [
    "import os\n",
    "import numpy as np\n",
    "import tensorflow as tf\n",
    "from vgg16 import *\n",
    "from classes import class_names"
   ]
  },
  {
   "cell_type": "code",
   "execution_count": 2,
   "metadata": {},
   "outputs": [],
   "source": [
    "# Misc\n",
    "LOG_DIR = './log/'\n",
    "\n",
    "# Training Parameters\n",
    "LEARNING_RATE = 0.005\n",
    "MOMENTUM = 0.9\n",
    "NUM_EPOCHS = 1\n",
    "NUM_STEPS = 500\n",
    "BATCH_SIZE = 128\n",
    "DISPLAY_STEP = 10\n",
    "\n",
    "# Network Parameters\n",
    "NUM_CLASSES = 1000\n",
    "KEEP_RATE = 0.75"
   ]
  },
  {
   "cell_type": "code",
   "execution_count": 3,
   "metadata": {},
   "outputs": [],
   "source": [
    "def read_image (path):\n",
    "    # Read Image\n",
    "    img_file = tf.read_file(path)\n",
    "    img_decoded = tf.image.decode_jpeg(img_file, channels=3)\n",
    "    img_resized = tf.image.resize_images(img_decoded, [224, 224])\n",
    "    \n",
    "    # Convert to BGR <-- Because the weights were trained from opencv images\n",
    "    img = tf.reverse(img_resized, axis=[-1])\n",
    "    \n",
    "    # Subtract from mean\n",
    "    imagenet_mean = np.array([104., 117., 124.])\n",
    "    img -= imagenet_mean\n",
    "    \n",
    "    return img\n",
    "    "
   ]
  },
  {
   "cell_type": "code",
   "execution_count": 4,
   "metadata": {},
   "outputs": [],
   "source": [
    "model_graph = tf.Graph()\n",
    "with model_graph.as_default():\n",
    "    \n",
    "    data = tf.data.Dataset.from_tensor_slices(np.array(['../test_image/sealion.jpeg']))\n",
    "    data = data.map(read_image).batch(1)\n",
    "    iterator = data.make_one_shot_iterator()\n",
    "    next_el = iterator.get_next()\n",
    "    \n",
    "    #images = tf.placeholder(tf.float32, [None, 227, 227, 3])\n",
    "    #labels = tf.placeholder(tf.float32, [None, NUM_CLASSES])\n",
    "    keep_prob = tf.placeholder(tf.float32)\n",
    "    \n",
    "    # Build Model\n",
    "    vgg = MY_VGG16(x=next_el, keep_rate=keep_prob, \n",
    "                         num_classes=NUM_CLASSES, skip_layers=[],\n",
    "                         weights_path='../vgg16.npy')\n",
    "    vgg.build()\n",
    "    \n",
    "    # Logits and Predictions\n",
    "    logits = vgg.logits\n",
    "    prediction = {'classes': tf.argmax(logits, axis=1), \n",
    "                  'prob': tf.nn.softmax(logits, name='prob')}\n",
    "    \n",
    "    init = tf.global_variables_initializer()"
   ]
  },
  {
   "cell_type": "code",
   "execution_count": 5,
   "metadata": {},
   "outputs": [
    {
     "name": "stdout",
     "output_type": "stream",
     "text": [
      "sea lion\n",
      "0.98521477\n"
     ]
    }
   ],
   "source": [
    "with tf.Session(graph=model_graph) as sess:\n",
    "    \n",
    "    sess.run(init)\n",
    "    \n",
    "    vgg.load_weights(session=sess, encoding='latin1')\n",
    "    \n",
    "    pred = sess.run(prediction, feed_dict={keep_prob: 1.0})\n",
    "    \n",
    "    print(class_names[pred['classes'][0]])\n",
    "    print(pred['prob'].max())"
   ]
  },
  {
   "cell_type": "code",
   "execution_count": 5,
   "metadata": {},
   "outputs": [],
   "source": [
    "writer = tf.summary.FileWriter(os.path.join(LOG_DIR, 'model_1'), graph=model_graph)"
   ]
  },
  {
   "cell_type": "code",
   "execution_count": null,
   "metadata": {},
   "outputs": [],
   "source": []
  },
  {
   "cell_type": "code",
   "execution_count": null,
   "metadata": {},
   "outputs": [],
   "source": []
  }
 ],
 "metadata": {
  "kernelspec": {
   "display_name": "Python 3",
   "language": "python",
   "name": "python3"
  },
  "language_info": {
   "codemirror_mode": {
    "name": "ipython",
    "version": 3
   },
   "file_extension": ".py",
   "mimetype": "text/x-python",
   "name": "python",
   "nbconvert_exporter": "python",
   "pygments_lexer": "ipython3",
   "version": "3.6.5"
  }
 },
 "nbformat": 4,
 "nbformat_minor": 2
}

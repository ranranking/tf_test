{
 "cells": [
  {
   "cell_type": "code",
   "execution_count": 1,
   "metadata": {},
   "outputs": [],
   "source": [
    "import os\n",
    "import numpy as np\n",
    "import pandas as pd\n",
    "import tensorflow as tf\n",
    "from vgg16 import *\n",
    "from tensorflow.python import debug as tf_debug "
   ]
  },
  {
   "cell_type": "code",
   "execution_count": 2,
   "metadata": {},
   "outputs": [],
   "source": [
    "def _image_parser (path, label):\n",
    "    \n",
    "    # Convert One Hot Label\n",
    "    # one_hot_label = tf.one_hot(label, NUM_CLASSES)\n",
    "    \n",
    "    # Read Image\n",
    "    image_file = tf.read_file(path)\n",
    "    image_decoded = tf.image.decode_jpeg(image_file, channels=3)\n",
    "    image_resized = tf.image.resize_images(image_decoded, INPUT_IMAGE_SIZE)\n",
    "\n",
    "    #return image_resized, one_hot_label\n",
    "    return image_resized, label"
   ]
  },
  {
   "cell_type": "code",
   "execution_count": 3,
   "metadata": {},
   "outputs": [],
   "source": [
    "# Misc\n",
    "LOG_DIR = './log/'\n",
    "MODEL_ID = 1\n",
    "IMGNET_PRE_MODEL = './imagenet_pretrained_20/model.ckpt'\n",
    "\n",
    "# Training Parameters\n",
    "MEAN_IMAGE = np.array([104., 117., 124.])\n",
    "SHUFFLE_BUFFER= 250\n",
    "LEARNING_RATE = 0.005\n",
    "MOMENTUM = 0.9\n",
    "NUM_EPOCHS = 1\n",
    "NUM_STEPS = 5000\n",
    "BATCH_SIZE = 10\n",
    "DISPLAY_STEP = 1\n",
    "INPUT_IMAGE_SIZE = [256, 256]\n",
    "NUM_CLASSES = 20\n",
    "KEEP_RATE = 0.75"
   ]
  },
  {
   "cell_type": "code",
   "execution_count": 18,
   "metadata": {},
   "outputs": [],
   "source": [
    "# Data preparation\n",
    "train = pd.read_csv('../train20.txt', delimiter=' ', header=None).sample(frac=1)  "
   ]
  },
  {
   "cell_type": "code",
   "execution_count": 19,
   "metadata": {},
   "outputs": [],
   "source": [
    "train = train.head(10)"
   ]
  },
  {
   "cell_type": "code",
   "execution_count": 27,
   "metadata": {},
   "outputs": [],
   "source": [
    "# Dataset\n",
    "trn_ds = tf.data.Dataset.from_tensor_slices(\n",
    "    (np.array(train[0]), np.array(train[1]))).map(_image_parser).batch(BATCH_SIZE)\n",
    "\n",
    "iterator = trn_ds.make_one_shot_iterator()\n",
    "x, y = iterator.get_next()\n",
    "\n",
    "# Crop and resize\n",
    "crop_resize = tf.image.crop_and_resize(\n",
    "    image=x,\n",
    "    boxes=[[0, 0, 0.9, 1]] * BATCH_SIZE,\n",
    "    box_ind=range(BATCH_SIZE),\n",
    "    crop_size=[int(x.get_shape()[1]), \n",
    "        int(x.get_shape()[2])],\n",
    "    name='crop_resize')\n",
    "\n",
    "# Convert to BGR <-- Because the weights were trained from opencv images\n",
    "bgr = tf.reverse(\n",
    "    tensor=crop_resize, \n",
    "    axis=[-1],\n",
    "    name='bgr')\n",
    "\n",
    "# Subtract from mean\n",
    "bgr_sub = tf.subtract(\n",
    "    x=bgr,\n",
    "    y=MEAN_IMAGE,\n",
    "    name='mean_subtraction')\n",
    "\n",
    "# Crop\n",
    "final_input = tf.image.resize_image_with_crop_or_pad(\n",
    "        image=bgr_sub,\n",
    "        target_height=224,\n",
    "        target_width=224)\n",
    "\n",
    "random_crop = tf.random_crop(\n",
    "    value=x,\n",
    "    size=[BATCH_SIZE, 80, 80, 3])\n",
    "\n",
    "# Image Summary\n",
    "summary_op = tf.summary.image('input', random_crop, BATCH_SIZE)    "
   ]
  },
  {
   "cell_type": "code",
   "execution_count": 28,
   "metadata": {},
   "outputs": [
    {
     "name": "stdout",
     "output_type": "stream",
     "text": [
      "[ 0  6  5 15 10  9  3 11  5 19]\n"
     ]
    }
   ],
   "source": [
    "with tf.Session() as sess:\n",
    "    # Run\n",
    "    summary, lab = sess.run([summary_op, y])\n",
    "    print(lab)\n",
    "    # Write summary\n",
    "    writer = tf.summary.FileWriter('./log')\n",
    "    writer.add_summary(summary)\n",
    "    writer.close()"
   ]
  },
  {
   "cell_type": "code",
   "execution_count": 26,
   "metadata": {},
   "outputs": [
    {
     "name": "stdout",
     "output_type": "stream",
     "text": [
      "[ 0  6  5 15 10  9  3 11  5 19]\n"
     ]
    }
   ],
   "source": [
    "with tf.Session() as sess:\n",
    "    # Run\n",
    "    summary, lab = sess.run([summary_op, y])\n",
    "    print(lab)\n",
    "    # Write summary\n",
    "    writer = tf.summary.FileWriter('./log')\n",
    "    writer.add_summary(summary)\n",
    "    writer.close()"
   ]
  },
  {
   "cell_type": "code",
   "execution_count": null,
   "metadata": {},
   "outputs": [],
   "source": []
  },
  {
   "cell_type": "code",
   "execution_count": null,
   "metadata": {},
   "outputs": [],
   "source": []
  },
  {
   "cell_type": "code",
   "execution_count": 6,
   "metadata": {},
   "outputs": [
    {
     "data": {
      "text/plain": [
       "array([ '/home/public/dataset/ecology/Mozambique/Hartebeest/2016:11:23_12:06:36.jpg',\n",
       "       '/home/public/dataset/ecology/Mozambique/Impala/2016_10_04_14_53_17.jpg',\n",
       "       '/home/public/dataset/ecology/Mozambique/Porcupine/2016_08_07_18_11_37.jpg',\n",
       "       '/home/public/dataset/ecology/Mozambique/Hare/2016_07_13_22_14_15.jpg',\n",
       "       '/home/public/dataset/ecology/Mozambique/Vervet/2016_07_01_12_22_49.jpg',\n",
       "       '/home/public/dataset/ecology/Mozambique/Genet/2016_07_19_19_45_03.jpg',\n",
       "       '/home/public/dataset/ecology/Mozambique/Nyala/2016_09_29_06_25_32.jpg',\n",
       "       '/home/public/dataset/ecology/Mozambique/Elephant/2016:12:30_04:55:08.jpg',\n",
       "       '/home/public/dataset/ecology/Mozambique/Kudu/2016_09_12_16_23_38.jpg_original.jpg',\n",
       "       '/home/public/dataset/ecology/Mozambique/Waterbuck/2016_07_08_14_12_32.jpg'], dtype=object)"
      ]
     },
     "execution_count": 6,
     "metadata": {},
     "output_type": "execute_result"
    }
   ],
   "source": [
    "np.array(train[0])"
   ]
  },
  {
   "cell_type": "code",
   "execution_count": 16,
   "metadata": {},
   "outputs": [],
   "source": [
    "# Read Image\n",
    "image_file = tf.read_file('/home/public/dataset/ecology/Mozambique/Hartebeest/2016:11:23_12:06:36.jpg')\n",
    "image_decoded = tf.image.decode_jpeg(image_file, channels=3)\n",
    "image_resized = tf.image.resize_images(image_decoded, INPUT_IMAGE_SIZE)\n",
    "\n",
    "random_crop = tf.random_crop(\n",
    "    value=image_resized,\n",
    "    size=[180, 180, 3])\n",
    "\n",
    "image = tf.expand_dims(random_crop, 0)\n",
    "\n",
    "# Image Summary\n",
    "summary_op = tf.summary.image('input', image) "
   ]
  },
  {
   "cell_type": "code",
   "execution_count": 17,
   "metadata": {},
   "outputs": [],
   "source": [
    "with tf.Session() as sess:\n",
    "    # Run\n",
    "    summary= sess.run(summary_op)\n",
    "    # Write summary\n",
    "    writer = tf.summary.FileWriter('./log')\n",
    "    writer.add_summary(summary)\n",
    "    writer.close()"
   ]
  },
  {
   "cell_type": "code",
   "execution_count": 33,
   "metadata": {},
   "outputs": [
    {
     "data": {
      "text/plain": [
       "[[0, 0, 0.9, 1],\n",
       " [0, 0, 0.9, 1],\n",
       " [0, 0, 0.9, 1],\n",
       " [0, 0, 0.9, 1],\n",
       " [0, 0, 0.9, 1],\n",
       " [0, 0, 0.9, 1],\n",
       " [0, 0, 0.9, 1],\n",
       " [0, 0, 0.9, 1],\n",
       " [0, 0, 0.9, 1],\n",
       " [0, 0, 0.9, 1]]"
      ]
     },
     "execution_count": 33,
     "metadata": {},
     "output_type": "execute_result"
    }
   ],
   "source": [
    "[[0, 0, 0.9, 1]] * 10"
   ]
  }
 ],
 "metadata": {
  "kernelspec": {
   "display_name": "Python 3",
   "language": "python",
   "name": "python3"
  },
  "language_info": {
   "codemirror_mode": {
    "name": "ipython",
    "version": 2
   },
   "file_extension": ".py",
   "mimetype": "text/x-python",
   "name": "python",
   "nbconvert_exporter": "python",
   "pygments_lexer": "ipython2",
   "version": "2.7.15"
  }
 },
 "nbformat": 4,
 "nbformat_minor": 2
}
